{
  "nbformat": 4,
  "nbformat_minor": 0,
  "metadata": {
    "colab": {
      "name": "PFinal.ipynb",
      "provenance": []
    },
    "kernelspec": {
      "display_name": "Python 3",
      "name": "python3"
    },
    "language_info": {
      "name": "python"
    }
  },
  "cells": [
    {
      "cell_type": "code",
      "metadata": {
        "colab": {
          "base_uri": "https://localhost:8080/"
        },
        "id": "0mPlEYVo9IWm",
        "outputId": "a6386bf6-648b-4c2a-c5b9-fcd04693493a"
      },
      "source": [
        "import pandas as pd\n",
        "import matplotlib.pyplot as plt\n",
        "import seaborn as sns\n",
        "\n",
        "#Leemos fichero de datos\n",
        "df_Fake = pd.read_csv('/content/sample_data/Fake.csv')\n",
        "df_True = pd.read_csv('/content/sample_data/True.csv')\n",
        "\n",
        "#Añadimos la clase a los dataframe\n",
        "df_Fake['clase'] = 'FAKE'\n",
        "df_True['clase'] = 'REAL'\n",
        "\n",
        "print(df_Fake.head())\n",
        "print(df_True.head())\n",
        "\n",
        "print(df_Fake.columns.values)\n",
        "print(df_Fake.shape)\n",
        "print(df_True.columns.values)\n",
        "print(df_True.shape)\n",
        "df_True.drop_duplicates()\n",
        "print(df_True.shape)\n"
      ],
      "execution_count": null,
      "outputs": [
        {
          "output_type": "stream",
          "name": "stdout",
          "text": [
            "                                               title  ... clase\n",
            "0   Donald Trump Sends Out Embarrassing New Year’...  ...  FAKE\n",
            "1   Drunk Bragging Trump Staffer Started Russian ...  ...  FAKE\n",
            "2   Sheriff David Clarke Becomes An Internet Joke...  ...  FAKE\n",
            "3   Trump Is So Obsessed He Even Has Obama’s Name...  ...  FAKE\n",
            "4   Pope Francis Just Called Out Donald Trump Dur...  ...  FAKE\n",
            "\n",
            "[5 rows x 5 columns]\n",
            "                                               title  ... clase\n",
            "0  As U.S. budget fight looms, Republicans flip t...  ...  REAL\n",
            "1  U.S. military to accept transgender recruits o...  ...  REAL\n",
            "2  Senior U.S. Republican senator: 'Let Mr. Muell...  ...  REAL\n",
            "3  FBI Russia probe helped by Australian diplomat...  ...  REAL\n",
            "4  Trump wants Postal Service to charge 'much mor...  ...  REAL\n",
            "\n",
            "[5 rows x 5 columns]\n",
            "['title' 'text' 'subject' 'date' 'clase']\n",
            "(23481, 5)\n",
            "['title' 'text' 'subject' 'date' 'clase']\n",
            "(21417, 5)\n",
            "(21417, 5)\n"
          ]
        }
      ]
    },
    {
      "cell_type": "code",
      "metadata": {
        "colab": {
          "base_uri": "https://localhost:8080/"
        },
        "id": "4L2BQzTfBd-3",
        "outputId": "bf779cc1-a73d-40a2-d5b5-1eeea69322b2"
      },
      "source": [
        "#Solamente necesitamos las columnas de text y clase\n",
        "df_Fake = df_Fake[['title','clase']]\n",
        "df_True = df_True[['title','clase']]\n",
        "df = pd.concat([df_Fake, df_True])\n",
        "df = df.reset_index()\n",
        "print(df_True.columns.values)\n",
        "print(df['title'])\n",
        "print(df.shape)\n",
        "print(df.head())\n",
        "df.drop_duplicates()\n",
        "print(df.shape)\n"
      ],
      "execution_count": null,
      "outputs": [
        {
          "output_type": "stream",
          "name": "stdout",
          "text": [
            "['title' 'clase']\n",
            "0         Donald Trump Sends Out Embarrassing New Year’...\n",
            "1         Drunk Bragging Trump Staffer Started Russian ...\n",
            "2         Sheriff David Clarke Becomes An Internet Joke...\n",
            "3         Trump Is So Obsessed He Even Has Obama’s Name...\n",
            "4         Pope Francis Just Called Out Donald Trump Dur...\n",
            "                               ...                        \n",
            "44893    'Fully committed' NATO backs new U.S. approach...\n",
            "44894    LexisNexis withdrew two products from Chinese ...\n",
            "44895    Minsk cultural hub becomes haven from authorities\n",
            "44896    Vatican upbeat on possibility of Pope Francis ...\n",
            "44897    Indonesia to buy $1.14 billion worth of Russia...\n",
            "Name: title, Length: 44898, dtype: object\n",
            "(44898, 3)\n",
            "   index                                              title clase\n",
            "0      0   Donald Trump Sends Out Embarrassing New Year’...  FAKE\n",
            "1      1   Drunk Bragging Trump Staffer Started Russian ...  FAKE\n",
            "2      2   Sheriff David Clarke Becomes An Internet Joke...  FAKE\n",
            "3      3   Trump Is So Obsessed He Even Has Obama’s Name...  FAKE\n",
            "4      4   Pope Francis Just Called Out Donald Trump Dur...  FAKE\n",
            "(44898, 3)\n"
          ]
        }
      ]
    },
    {
      "cell_type": "code",
      "metadata": {
        "colab": {
          "base_uri": "https://localhost:8080/"
        },
        "id": "U9VpSfTrACsv",
        "outputId": "adf3ef0f-c8d3-4fc6-cd7f-6a53c6ac8112"
      },
      "source": [
        "#Comprobamos que no hay valores null\n",
        "print(df.isnull().sum())\n"
      ],
      "execution_count": null,
      "outputs": [
        {
          "output_type": "stream",
          "name": "stdout",
          "text": [
            "index    0\n",
            "title    0\n",
            "clase    0\n",
            "dtype: int64\n"
          ]
        }
      ]
    },
    {
      "cell_type": "code",
      "metadata": {
        "colab": {
          "base_uri": "https://localhost:8080/",
          "height": 384
        },
        "id": "fDHCcB_bAdB5",
        "outputId": "a04f9859-3d07-4046-9cf5-3f82b4ab9c4c"
      },
      "source": [
        "#Vemos si la clase esta balanceada\n",
        "print(df['clase'].value_counts())\n",
        "\n",
        "sns.countplot(df['clase'])\n",
        "plt.show()"
      ],
      "execution_count": null,
      "outputs": [
        {
          "output_type": "stream",
          "name": "stdout",
          "text": [
            "FAKE    23481\n",
            "REAL    21417\n",
            "Name: clase, dtype: int64\n"
          ]
        },
        {
          "output_type": "stream",
          "name": "stderr",
          "text": [
            "/usr/local/lib/python3.7/dist-packages/seaborn/_decorators.py:43: FutureWarning: Pass the following variable as a keyword arg: x. From version 0.12, the only valid positional argument will be `data`, and passing other arguments without an explicit keyword will result in an error or misinterpretation.\n",
            "  FutureWarning\n"
          ]
        },
        {
          "output_type": "display_data",
          "data": {
            "image/png": "[encoded data removed]",
            "text/plain": [
              "<Figure size 432x288 with 1 Axes>"
            ]
          },
          "metadata": {
            "needs_background": "light"
          }
        }
      ]
    },
    {
      "cell_type": "code",
      "metadata": {
        "colab": {
          "base_uri": "https://localhost:8080/",
          "height": 290
        },
        "id": "iBooTcz4BmKQ",
        "outputId": "47cbe7ba-4074-4c0a-8976-66544c0bbebf"
      },
      "source": [
        "from sklearn.model_selection import train_test_split\n",
        "import re\n",
        "import nltk\n",
        "nltk.download('punkt')\n",
        "from nltk.stem.porter import PorterStemmer\n",
        "from nltk.stem.snowball import SnowballStemmer\n",
        "\n",
        "f = open('/content/sample_data/stop_words_english.txt')\n",
        "stop = []\n",
        "for linea in f:\n",
        "  stop.append(linea)\n",
        "'''\n",
        "ps = PorterStemmer()\n",
        "#print(df['title'][0])\n",
        "corpus=[]\n",
        "sentences=[]\n",
        "for i in range(0,len(df)):\n",
        "    review=re.sub('[^a-zA-Z]',' ', df['title'][i])\n",
        "    review=review.lower()\n",
        "    list=review.split()\n",
        "    review=[ps.stem(word) for word in list if word not in stop]\n",
        "    sentences=' '.join(review)\n",
        "    corpus.append(sentences)\n",
        "\n",
        "print(corpus[0])\n",
        "#Conjuntos\n",
        "\n",
        "X = pd.DataFrame(corpus)\n",
        "print(X.shape)\n",
        "print(X)\n",
        "y = df['clase']\n",
        "\n",
        "'''\n",
        "'''\n",
        "sb = SnowballStemmer('english')\n",
        "from nltk.stem import WordNetLemmatizer\n",
        "nltk.download('wordnet')\n",
        "lemmatizer = WordNetLemmatizer()\n",
        "corpus = []\n",
        "for i in range(0,len(df)):\n",
        "    tokens = [word for sent in nltk.sent_tokenize(df['title'][i]) for word in nltk.word_tokenize(sent)]\n",
        "    #print(tokens)\n",
        "    filtered_tokens = []\n",
        "    for token in tokens:\n",
        "        if re.search('[a-zA-Z]', token):\n",
        "            filtered_tokens.append(token)\n",
        "    stems = [lemmatizer.lemmatize(t) for t in filtered_tokens if t not in stop]\n",
        "    #print(stems)\n",
        "    a = ' '.join(stems).lower()\n",
        "    #print(a)\n",
        "    corpus.append(a)\n",
        "print(corpus)\n",
        "'''\n",
        "'''\n",
        "X = pd.DataFrame(corpus)\n",
        "print(X.shape)\n",
        "print(X)\n",
        "y = df['clase']\n",
        "X_train, X_test, y_train, y_test = train_test_split(X, y, test_size = 0.2, random_state = 5)\n",
        "\n",
        "print(X_train)\n",
        "print(y_train)\n",
        "'''"
      ],
      "execution_count": null,
      "outputs": [
        {
          "output_type": "stream",
          "name": "stdout",
          "text": [
            "[nltk_data] Downloading package punkt to /root/nltk_data...\n",
            "[nltk_data]   Package punkt is already up-to-date!\n",
            "[nltk_data] Downloading package wordnet to /root/nltk_data...\n",
            "[nltk_data]   Package wordnet is already up-to-date!\n"
          ]
        },
        {
          "output_type": "stream",
          "name": "stderr",
          "text": [
            "IOPub data rate exceeded.\n",
            "The notebook server will temporarily stop sending output\n",
            "to the client in order to avoid crashing it.\n",
            "To change this limit, set the config variable\n",
            "`--NotebookApp.iopub_data_rate_limit`.\n",
            "\n",
            "Current values:\n",
            "NotebookApp.iopub_data_rate_limit=1000000.0 (bytes/sec)\n",
            "NotebookApp.rate_limit_window=3.0 (secs)\n",
            "\n"
          ]
        },
        {
          "output_type": "execute_result",
          "data": {
            "application/vnd.google.colaboratory.intrinsic+json": {
              "type": "string"
            },
            "text/plain": [
              "\"\\nX = pd.DataFrame(corpus)\\nprint(X.shape)\\nprint(X)\\ny = df['clase']\\nX_train, X_test, y_train, y_test = train_test_split(X, y, test_size = 0.2, random_state = 5)\\n\\nprint(X_train)\\nprint(y_train)\\n\""
            ]
          },
          "metadata": {},
          "execution_count": 129
        }
      ]
    },
    {
      "cell_type": "code",
      "metadata": {
        "id": "xXCvky1Wvvy-",
        "colab": {
          "base_uri": "https://localhost:8080/"
        },
        "outputId": "a49ca0f6-c907-4fd4-e625-053018ff6faa"
      },
      "source": [
        "import itertools\n",
        "import joblib\n",
        "from sklearn.feature_extraction.text import TfidfVectorizer\n",
        "from sklearn.naive_bayes import MultinomialNB\n",
        "from sklearn.tree import DecisionTreeClassifier\n",
        "from sklearn.ensemble import RandomForestClassifier\n",
        "from sklearn.linear_model import LogisticRegression\n",
        "from sklearn.linear_model import PassiveAggressiveClassifier\n",
        "from sklearn import metrics\n",
        "\n",
        "#Tranformacion tf-idf\n",
        "vectorizer=TfidfVectorizer(ngram_range = (1,3))\n",
        "\n",
        "X = vectorizer.fit_transform(corpus)\n",
        "y = df['clase']\n",
        "\n",
        "X_train, X_test, y_train, y_test = train_test_split(X, y, test_size = 0.2, random_state = 5)\n",
        "#print(X_train)\n",
        "#print(y_train)\n",
        "\n",
        "#tfidf_train = vectorizer.fit_transform(X_train)\n",
        "#tfidf_test = vectorizer.transform(X_test)\n",
        "\n",
        "\n",
        "#Entrenamiento\n",
        "classifiers = {\n",
        "    #'LogisticRegression': (LogisticRegression, {}),\n",
        "    'MultinomialNB': (MultinomialNB, {}),\n",
        "    'PAC': (PassiveAggressiveClassifier, {})\n",
        "    #'DecisionTreeClassifier': (DecisionTreeClassifier, {}),\n",
        "    #'RandomForest': (RandomForestClassifier, {}) \n",
        "}\n",
        "\n",
        "resultados = []\n",
        "\n",
        "for clf_name, clf_info in classifiers.items():\n",
        "    Clf, hyperparams = clf_info\n",
        "    hp_ks, hp_vs = hyperparams.keys(), hyperparams.values()\n",
        "    configs = [dict(zip(hp_ks, v)) for v in itertools.product(*hp_vs)]\n",
        "    \n",
        "    for config in configs:\n",
        "\n",
        "        clf = Clf(**config)\n",
        "        clf.fit(X_train, y_train)\n",
        "        y_pred = clf.predict(X_test)\n",
        "        accuracy_test = metrics.accuracy_score(y_test, y_pred)\n",
        "        confmat = metrics.confusion_matrix(y_test, y_pred)\n",
        "        joblib.dump(clf,'/content/sample_data/' + clf_name + '.pkl' )\n",
        "        resultados.append({\n",
        "          'classifier': clf_name,\n",
        "          #'hyperparameters': str(config),\n",
        "          'accuracy_test': accuracy_test,\n",
        "          'confusion_matrix': confmat\n",
        "        })\n",
        "\n",
        "results_df = pd.DataFrame(resultados)\n",
        "print(results_df)\n"
      ],
      "execution_count": null,
      "outputs": [
        {
          "output_type": "stream",
          "name": "stdout",
          "text": [
            "      classifier  accuracy_test           confusion_matrix\n",
            "0  MultinomialNB       0.964922  [[4652, 68], [247, 4013]]\n",
            "1            PAC       0.976058  [[4592, 128], [87, 4173]]\n"
          ]
        }
      ]
    },
    {
      "cell_type": "code",
      "metadata": {
        "id": "XMZc38iw-Pqq",
        "colab": {
          "base_uri": "https://localhost:8080/"
        },
        "outputId": "3801635f-e679-47d7-8a18-a72ca21434ee"
      },
      "source": [
        "clf = joblib.load('/content/sample_data/PAC.pkl')\n",
        "X_test = [\"Anthony Fauci, top U.S. infectious disease expert, says Trump campaign ad is misleading\"]\n",
        "'''\n",
        "X_test[0] = X_test[0].lower()\n",
        "tokens = [word for sent in nltk.sent_tokenize(X_test[0]) for word in nltk.word_tokenize(sent)]\n",
        "#print(tokens)\n",
        "filtered_tokens = []\n",
        "for token in tokens:\n",
        "    if re.search('[a-zA-Z]', token):\n",
        "      filtered_tokens.append(token)\n",
        "stems = [lemmatizer.lemmatize(t) for t in filtered_tokens if t not in stop]\n",
        "#print(stems)\n",
        "a = ' '.join(stems)\n",
        "#print(a)\n",
        "X_test[0] = a\n",
        "print(X_test[0])\n",
        "'''\n",
        "tfidf_test = vectorizer.transform(X_test)\n",
        "print(tfidf_test)\n",
        "y_pred = clf.predict(tfidf_test)\n",
        "print(y_pred)"
      ],
      "execution_count": null,
      "outputs": [
        {
          "output_type": "stream",
          "name": "stdout",
          "text": [
            "  (0, 509521)\t0.3230404864055664\n",
            "  (0, 509517)\t0.19962989102822815\n",
            "  (0, 507911)\t0.06512275340150815\n",
            "  (0, 502503)\t0.16355333005187495\n",
            "  (0, 421635)\t0.33538146003680314\n",
            "  (0, 421632)\t0.22760674706305672\n",
            "  (0, 421188)\t0.1647599833704648\n",
            "  (0, 301298)\t0.27024515221481393\n",
            "  (0, 246070)\t0.11159825421007102\n",
            "  (0, 154254)\t0.33538146003680314\n",
            "  (0, 154175)\t0.21313647283353984\n",
            "  (0, 131680)\t0.27615459844495094\n",
            "  (0, 75827)\t0.27209035873019366\n",
            "  (0, 75815)\t0.1543435815824869\n",
            "  (0, 27587)\t0.25616447160535316\n",
            "  (0, 6361)\t0.33538146003680314\n",
            "  (0, 6238)\t0.1943161326192529\n",
            "['FAKE']\n"
          ]
        }
      ]
    }
  ]
}